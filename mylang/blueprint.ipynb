{
 "cells": [
  {
   "cell_type": "markdown",
   "metadata": {},
   "source": [
    "# 환경설정"
   ]
  },
  {
   "cell_type": "code",
   "execution_count": 1,
   "metadata": {},
   "outputs": [
    {
     "name": "stdout",
     "output_type": "stream",
     "text": [
      "LangSmith 추적을 시작합니다.\n",
      "[프로젝트명]\n",
      "PDF_WITH_SEARCH_AI\n"
     ]
    }
   ],
   "source": [
    "# 환경설정 로드\n",
    "from dotenv import load_dotenv\n",
    "load_dotenv()\n",
    "\n",
    "# 랭스미스 로깅 활성화\n",
    "from langchain_teddynote import logging\n",
    "logging.langsmith(\"PDF_WITH_SEARCH_AI\")"
   ]
  },
  {
   "cell_type": "markdown",
   "metadata": {},
   "source": [
    "### 폴더 내 파일들 리스트로 변환"
   ]
  },
  {
   "cell_type": "code",
   "execution_count": 2,
   "metadata": {},
   "outputs": [
    {
     "data": {
      "text/plain": [
       "['./pdf/근로기준법.pdf', './pdf/근로기준법_시행규칙.pdf', './pdf/근로기준법_시행령.pdf']"
      ]
     },
     "execution_count": 2,
     "metadata": {},
     "output_type": "execute_result"
    }
   ],
   "source": [
    "import os\n",
    "def list_files_with_paths(directory):\n",
    "    \"\"\"\n",
    "    :param directory: 디렉토리 경로\n",
    "    경로의 하위폴더의 파일까지 모두 가져와 경로가 붙은 파일명 리스트 리턴\n",
    "    \"\"\"\n",
    "    file_list = []\n",
    "    for root, dirs, files in os.walk(directory):\n",
    "        for file in files:\n",
    "            file_list.append(os.path.join(root, file))\n",
    "    return file_list\n",
    "\n",
    "source_list = list_files_with_paths(\"./pdf/\")\n",
    "source_list"
   ]
  },
  {
   "cell_type": "markdown",
   "metadata": {},
   "source": [
    "### PDF로딩 후 DB에 임베딩"
   ]
  },
  {
   "cell_type": "code",
   "execution_count": 3,
   "metadata": {},
   "outputs": [
    {
     "data": {
      "application/vnd.jupyter.widget-view+json": {
       "model_id": "76d3210f404f40ab9c5531a85b701faa",
       "version_major": 2,
       "version_minor": 0
      },
      "text/plain": [
       "  0%|          | 0/182 [00:00<?, ?it/s]"
      ]
     },
     "metadata": {},
     "output_type": "display_data"
    },
    {
     "data": {
      "application/vnd.jupyter.widget-view+json": {
       "model_id": "36da5e5d1902446b9df4673f23977012",
       "version_major": 2,
       "version_minor": 0
      },
      "text/plain": [
       "  0%|          | 0/182 [00:00<?, ?it/s]"
      ]
     },
     "metadata": {},
     "output_type": "display_data"
    },
    {
     "name": "stdout",
     "output_type": "stream",
     "text": [
      "[fit_sparse_encoder]\n",
      "Saved Sparse Encoder to: ../sparse_encoder.pkl\n"
     ]
    },
    {
     "data": {
      "application/vnd.jupyter.widget-view+json": {
       "model_id": "a90486cbf25f4a349659aa9c39371f27",
       "version_major": 2,
       "version_minor": 0
      },
      "text/plain": [
       "문서 Upsert 중:   0%|          | 0/6 [00:00<?, ?it/s]"
      ]
     },
     "metadata": {},
     "output_type": "display_data"
    },
    {
     "name": "stdout",
     "output_type": "stream",
     "text": [
      "총 182개의 Vector 가 Upsert 되었습니다.\n",
      "{'dimension': 4096,\n",
      " 'index_fullness': 0.0,\n",
      " 'namespaces': {'ace1': {'vector_count': 364},\n",
      "                'sashin1': {'vector_count': 182},\n",
      "                'sashin2': {'vector_count': 182}},\n",
      " 'total_vector_count': 728}\n",
      "[init_pinecone_index]\n",
      "{'dimension': 4096,\n",
      " 'index_fullness': 0.0,\n",
      " 'namespaces': {'ace1': {'vector_count': 364},\n",
      "                'ns1': {'vector_count': 182},\n",
      "                'sashin1': {'vector_count': 182},\n",
      "                'sashin2': {'vector_count': 182}},\n",
      " 'total_vector_count': 910}\n"
     ]
    }
   ],
   "source": [
    "# PDF 로딩\n",
    "# OPENAI_API_KEY, UPSTAGE_API_KEY 필요\n",
    "from rag.pdf import PDFRetrievalChain\n",
    "pdf = PDFRetrievalChain(source_list).create_chain(True)\n",
    "pdf_retriever = pdf.retriever\n",
    "pdf_chain = pdf.chain"
   ]
  },
  {
   "cell_type": "markdown",
   "metadata": {},
   "source": [
    "## GraphState 클래스 생성\n",
    "질문, 컨텍스트, 대답, 관련성 정보를 계속 가지고 다닐 필요가 있음"
   ]
  },
  {
   "cell_type": "code",
   "execution_count": 4,
   "metadata": {},
   "outputs": [],
   "source": [
    "from typing import TypedDict\n",
    "class GraphState(TypedDict):\n",
    "    question: str  # 질문\n",
    "    context: str  # 문서의 검색 결과\n",
    "    answer: str  # 답변\n",
    "    relevance: str  # 답변의 문서에 대한 관련성"
   ]
  },
  {
   "cell_type": "markdown",
   "metadata": {},
   "source": [
    "### 각 노드로 사용할 메소드들 작성"
   ]
  },
  {
   "cell_type": "code",
   "execution_count": 6,
   "metadata": {},
   "outputs": [],
   "source": [
    "from langchain_upstage import UpstageGroundednessCheck\n",
    "from langchain_core.prompts import ChatPromptTemplate\n",
    "from langchain_openai import ChatOpenAI\n",
    "from langchain_core.output_parsers import StrOutputParser\n",
    "from langchain_community.tools.tavily_search import TavilySearchResults\n",
    "from rag.utils import format_docs, format_searched_docs\n",
    "\n",
    "# 업스테이지 문서 관련성 체크 기능을 설정합니다. https://upstage.ai\n",
    "upstage_ground_checker = UpstageGroundednessCheck()\n",
    "\n",
    "\n",
    "# 문서에서 검색하여 관련성 있는 문서를 찾습니다.\n",
    "def retrieve_document(state: GraphState) -> GraphState:\n",
    "    # 문서에서 검색하여 관련성 있는 문서를 찾습니다.\n",
    "    retrieved_docs = pdf_retriever.invoke(state[\"question\"])\n",
    "\n",
    "    # 검색된 문서를 형식화합니다.\n",
    "    retrieved_docs = format_docs(retrieved_docs)\n",
    "\n",
    "    # 검색된 문서를 context 키에 저장합니다.\n",
    "    return GraphState(context=retrieved_docs)\n",
    "\n",
    "\n",
    "# LLM을 사용하여 답변을 생성합니다.\n",
    "def llm_answer(state: GraphState) -> GraphState:\n",
    "    question = state[\"question\"]\n",
    "    context = state[\"context\"]\n",
    "\n",
    "    # 체인을 호출하여 답변을 생성합니다.\n",
    "    response = pdf_chain.invoke({\"question\": question, \"context\": context})\n",
    "\n",
    "    return GraphState(answer=response)\n",
    "\n",
    "\n",
    "def rewrite(state):\n",
    "    question = state[\"question\"]\n",
    "    answer = state[\"answer\"]\n",
    "    context = state[\"context\"]\n",
    "    prompt = ChatPromptTemplate.from_messages(\n",
    "        [\n",
    "            (\n",
    "                \"system\",\n",
    "                \"You are a professional prompt rewriter. Your task is to generate the question in order to get additional information that is now shown in the context.\"\n",
    "                \"Your generated question will be searched on the web to find relevant information.\",\n",
    "            ),\n",
    "            (\n",
    "                \"human\",\n",
    "                \"Rewrite the question to get additional information to get the answer.\"\n",
    "                \"\\n\\nHere is the initial question:\\n ------- \\n{question}\\n ------- \\n\"\n",
    "                \"\\n\\nHere is the initial context:\\n ------- \\n{context}\\n ------- \\n\"\n",
    "                \"\\n\\nHere is the initial answer to the question:\\n ------- \\n{answer}\\n ------- \\n\"\n",
    "                \"\\n\\nFormulate an improved question in Korean:\",\n",
    "            ),\n",
    "        ]\n",
    "    )\n",
    "\n",
    "    # Question rewriting model\n",
    "    model = ChatOpenAI(temperature=0, model=\"gpt-4o-mini\")\n",
    "\n",
    "    chain = prompt | model | StrOutputParser()\n",
    "    response = chain.invoke(\n",
    "        {\"question\": question, \"answer\": answer, \"context\": context}\n",
    "    )\n",
    "    return GraphState(question=response)\n",
    "\n",
    "\n",
    "def search_on_web(state: GraphState) -> GraphState:\n",
    "    # 문서에서 검색하여 관련성 있는 문서를 찾습니다.\n",
    "    search_tool = TavilySearchResults(max_results=5)\n",
    "    search_result = search_tool.invoke({\"query\": state[\"question\"]})\n",
    "\n",
    "    # 검색된 문서를 형식화합니다.\n",
    "    search_result = format_searched_docs(search_result)\n",
    "    # 검색된 문서를 context 키에 저장합니다.\n",
    "    return GraphState(\n",
    "        context=search_result,\n",
    "    )\n",
    "\n",
    "\n",
    "def relevance_check(state: GraphState) -> GraphState:\n",
    "    print(\"relevance_check\", state)\n",
    "    # 관련성 체크를 실행합니다. 결과: grounded, notGrounded, notSure\n",
    "    response = upstage_ground_checker.run(\n",
    "        {\"context\": state[\"context\"], \"answer\": state[\"answer\"]}\n",
    "    )\n",
    "    return GraphState(\n",
    "        relevance=response, question=state[\"question\"], answer=state[\"answer\"]\n",
    "    )\n",
    "\n",
    "\n",
    "def is_relevant(state: GraphState) -> GraphState:\n",
    "    return state[\"relevance\"]"
   ]
  },
  {
   "cell_type": "markdown",
   "metadata": {},
   "source": [
    "## 랭그래프 로직 작성"
   ]
  },
  {
   "cell_type": "code",
   "execution_count": 7,
   "metadata": {},
   "outputs": [],
   "source": [
    "from langgraph.graph import END, StateGraph\n",
    "from langgraph.checkpoint.memory import MemorySaver\n",
    "\n",
    "# langgraph.graph에서 StateGraph와 END를 가져옵니다.\n",
    "workflow = StateGraph(GraphState)\n",
    "\n",
    "# 노드들을 정의합니다.\n",
    "workflow.add_node(\"retrieve\", retrieve_document)  # 에이전트 노드를 추가합니다.\n",
    "workflow.add_node(\"llm_answer\", llm_answer)  # 정보 검색 노드를 추가합니다.\n",
    "workflow.add_node(\n",
    "    \"relevance_check\", relevance_check\n",
    ")  # 답변의 문서에 대한 관련성 체크 노드를 추가합니다.\n",
    "workflow.add_node(\"rewrite\", rewrite)  # 질문을 재작성하는 노드를 추가합니다.\n",
    "workflow.add_node(\"search_on_web\", search_on_web)  # 웹 검색 노드를 추가합니다.\n",
    "\n",
    "# 각 노드들을 연결합니다.\n",
    "workflow.add_edge(\"retrieve\", \"llm_answer\")  # 검색 -> 답변\n",
    "workflow.add_edge(\"llm_answer\", \"relevance_check\")  # 답변 -> 관련성 체크\n",
    "workflow.add_edge(\"rewrite\", \"search_on_web\")  # 재작성 -> 관련성 체크\n",
    "workflow.add_edge(\"search_on_web\", \"llm_answer\")  # 웹 검색 -> 답변\n",
    "\n",
    "\n",
    "# 조건부 엣지를 추가합니다.\n",
    "workflow.add_conditional_edges(\n",
    "    \"relevance_check\",  # 관련성 체크 노드에서 나온 결과를 is_relevant 함수에 전달합니다.\n",
    "    is_relevant,\n",
    "    {\n",
    "        \"grounded\": END,  # 관련성이 있으면 종료합니다.\n",
    "        \"notGrounded\": \"rewrite\",  # 관련성이 없으면 다시 답변을 생성합니다.\n",
    "        \"notSure\": \"rewrite\",  # 관련성 체크 결과가 모호하다면 다시 답변을 생성합니다.\n",
    "    },\n",
    ")\n",
    "\n",
    "\n",
    "workflow.set_entry_point(\"retrieve\")\n",
    "\n",
    "memory = MemorySaver()\n",
    "\n",
    "app = workflow.compile(checkpointer=memory)"
   ]
  },
  {
   "cell_type": "markdown",
   "metadata": {},
   "source": [
    "### 랭그래프 로직 머메이드로 그려보기"
   ]
  },
  {
   "cell_type": "code",
   "execution_count": 8,
   "metadata": {},
   "outputs": [
    {
     "data": {
      "image/jpeg": "[encoded data removed]",
      "text/plain": [
       "<IPython.core.display.Image object>"
      ]
     },
     "metadata": {},
     "output_type": "display_data"
    }
   ],
   "source": [
    "from IPython.display import Image, display\n",
    "\n",
    "try:\n",
    "    display(\n",
    "        Image(app.get_graph(xray=True).draw_mermaid_png())\n",
    "    )  # 실행 가능한 객체의 그래프를 mermaid 형식의 PNG로 그려서 표시합니다. xray=True는 추가적인 세부 정보를 포함합니다.\n",
    "except:\n",
    "    # 이 부분은 추가적인 의존성이 필요하며 선택적으로 실행됩니다.\n",
    "    pass"
   ]
  },
  {
   "cell_type": "markdown",
   "metadata": {},
   "source": [
    "# 랭그래프 동작시켜보기"
   ]
  },
  {
   "cell_type": "code",
   "execution_count": 10,
   "metadata": {},
   "outputs": [
    {
     "name": "stdout",
     "output_type": "stream",
     "text": [
      "\"Output from node 'retrieve':\"\n",
      "'---'\n",
      "{ 'context': '<document><content>근로기준법\\n'\n",
      "             '제25조(우선 재고용 등) ① 제24조에 따라 근로자를 해고한 사용자는 근로자를 해고한 날부터 3년 이내에 해고된 '\n",
      "             '근로\\n'\n",
      "             '자가 해고 당시 담당하였던 업무와 같은 업무를 할 근로자를 채용하려고 할 경우 제24조에 따라 해고된 근로자가 원\\n'\n",
      "             '하면 그 근로자를 우선적으로 고용하여야 한다.\\n'\n",
      "             '② 정부는 제24조에 따라 해고된 근로자에 대하여 생계안정, 재취업, 직업훈련 등 필요한 조치를 우선적으로 취하여\\n'\n",
      "             '야 한다.\\n'\n",
      "             '제26조(해고의 예고) 사용자는 근로자를 해고(경영상 이유에 의한 해고를 포함한다)하려면 적어도 30일 전에 예고를 '\n",
      "             '하\\n'\n",
      "             '여야 하고, 30일 전에 예고를 하지 아니하였을 때에는 30일분 이상의 통상임금을 지급하여야 한다. 다만, 다음 각 '\n",
      "             '호\\n'\n",
      "             '의 어느 하나에 해당하는 경우에는 그러하지 아니하다. <개정 2010. 6. 4., 2019. 1. 15.>\\n'\n",
      "             '1. 근로자가 계속 근로한 기간이 3개월 미만인 경우\\n'\n",
      "             '2. 천재ㆍ사변, 그 밖의 부득이한 사유로 사업을 계속하는 것이 불가능한 경우\\n'\n",
      "             '3. 근로자가 고의로 사업에 막대한 지장을 초래하거나 재산상 손해를 끼친 경우로서 고용노동부령으로 정하는 사유\\n'\n",
      "             '에 해당하는 경우\\n'\n",
      "             '제27조(해고사유 등의 서면통지) ① 사용자는 근로자를 해고하려면 해고사유와 해고시기를 서면으로 통지하여야 한다.\\n'\n",
      "             '② 근로자에 대한 해고는 제1항에 따라 서면으로 통지하여야 효력이 있다.\\n'\n",
      "             '③ 사용자가 제26조에 따른 해고의 예고를 해고사유와 해고시기를 명시하여 서면으로 한 경우에는 제1항에 따른\\n'\n",
      "             '통지를 한 것으로 본다.<신설 2014. 3. '\n",
      "             '24.></content><source>근로기준법.pdf</source><page>4</page></document>\\n'\n",
      "             '<document><content>1. 근로자가 계속 근로한 기간이 3개월 미만인 경우\\n'\n",
      "             '2. 천재ㆍ사변, 그 밖의 부득이한 사유로 사업을 계속하는 것이 불가능한 경우\\n'\n",
      "             '3. 근로자가 고의로 사업에 막대한 지장을 초래하거나 재산상 손해를 끼친 경우로서 고용노동부령으로 정하는 사유\\n'\n",
      "             '에 해당하는 경우\\n'\n",
      "             '제27조(해고사유 등의 서면통지) ① 사용자는 근로자를 해고하려면 해고사유와 해고시기를 서면으로 통지하여야 한다.\\n'\n",
      "             '② 근로자에 대한 해고는 제1항에 따라 서면으로 통지하여야 효력이 있다.\\n'\n",
      "             '③ 사용자가 제26조에 따른 해고의 예고를 해고사유와 해고시기를 명시하여 서면으로 한 경우에는 제1항에 따른\\n'\n",
      "             '통지를 한 것으로 본다.<신설 2014. 3. 24.>\\n'\n",
      "             '제28조(부당해고등의 구제신청) ① 사용자가 근로자에게 부당해고등을 하면 근로자는 노동위원회에 구제를 신청할 수\\n'\n",
      "             '있다.\\n'\n",
      "             '② 제1항에 따른 구제신청은 부당해고등이 있었던 날부터 3개월 이내에 하여야 한다.\\n'\n",
      "             '제29조(조사 등) ① 노동위원회는 제28조에 따른 구제신청을 받으면 지체 없이 필요한 조사를 하여야 하며 관계 '\n",
      "             '당사자\\n'\n",
      "             '를 심문하여야 한다.\\n'\n",
      "             '② 노동위원회는 제1항에 따라 심문을 할 때에는 관계 당사자의 신청이나 직권으로 증인을 출석하게 하여 필요한\\n'\n",
      "             '사항을 질문할 수 있다.\\n'\n",
      "             '③ 노동위원회는 제1항에 따라 심문을 할 때에는 관계 당사자에게 증거 제출과 증인에 대한 반대심문을 할 수 있는\\n'\n",
      "             '충분한 기회를 주어야 한다.\\n'\n",
      "             '④ 제1항에 따른 노동위원회의 조사와 심문에 관한 세부절차는 「노동위원회법」에 따른 중앙노동위원회(이하 “중앙\\n'\n",
      "             '노동위원회”라 한다)가 정하는 바에 '\n",
      "             '따른다.</content><source>근로기준법.pdf</source><page>4</page></document>\\n'\n",
      "             '<document><content>하 “부당해고등”이라 한다)을 하지 못한다.\\n'\n",
      "             '② 사용자는 근로자가 업무상 부상 또는 질병의 요양을 위하여 휴업한 기간과 그 후 30일 동안 또는 '\n",
      "             '산전(産前)ㆍ산\\n'\n",
      "             '후(産後)의 여성이 이 법에 따라 휴업한 기간과 그 후 30일 동안은 해고하지 못한다. 다만, 사용자가 제84조에 '\n",
      "             '따라\\n'\n",
      "             '일시보상을 하였을 경우 또는 사업을 계속할 수 없게 된 경우에는 그러하지 아니하다.\\n'\n",
      "             '제24조(경영상 이유에 의한 해고의 제한) ① 사용자가 경영상 이유에 의하여 근로자를 해고하려면 긴박한 경영상의 '\n",
      "             '필\\n'\n",
      "             '요가 있어야 한다. 이 경우 경영 악화를 방지하기 위한 사업의 양도ㆍ인수ㆍ합병은 긴박한 경영상의 필요가 있는 것\\n'\n",
      "             '으로 본다.\\n'\n",
      "             '② 제1항의 경우에 사용자는 해고를 피하기 위한 노력을 다하여야 하며, 합리적이고 공정한 해고의 기준을 정하고\\n'\n",
      "             '이에 따라 그 대상자를 선정하여야 한다. 이 경우 남녀의 성을 이유로 차별하여서는 아니 된다.\\n'\n",
      "             '③ 사용자는 제2항에 따른 해고를 피하기 위한 방법과 해고의 기준 등에 관하여 그 사업 또는 사업장에 근로자의\\n'\n",
      "             '과반수로 조직된 노동조합이 있는 경우에는 그 노동조합(근로자의 과반수로 조직된 노동조합이 없는 경우에는 근\\n'\n",
      "             '로자의 과반수를 대표하는 자를 말한다. 이하 “근로자대표”라 한다)에 해고를 하려는 날의 50일 전까지 통보하고 '\n",
      "             '성\\n'\n",
      "             '실하게 협의하여야 한다.\\n'\n",
      "             '④ 사용자는 제1항에 따라 대통령령으로 정하는 일정한 규모 이상의 인원을 해고하려면 대통령령으로 정하는 바에\\n'\n",
      "             '따라 고용노동부장관에게 신고하여야 한다.<개정 2010. 6. '\n",
      "             '4.></content><source>근로기준법.pdf</source><page>3</page></document>\\n'\n",
      "             '<document><content>제30조(구제명령 등) ① 노동위원회는 제29조에 따른 심문을 끝내고 부당해고등이 '\n",
      "             '성립한다고 판정하면 사용자에게 구\\n'\n",
      "             '제명령을 하여야 하며, 부당해고등이 성립하지 아니한다고 판정하면 구제신청을 기각하는 결정을 하여야 한다.\\n'\n",
      "             '② 제1항에 따른 판정, 구제명령 및 기각결정은 사용자와 근로자에게 각각 서면으로 통지하여야 한다.\\n'\n",
      "             '③ 노동위원회는 제1항에 따른 구제명령(해고에 대한 구제명령만을 말한다)을 할 때에 근로자가 원직복직(原職復職\\n'\n",
      "             ')을 원하지 아니하면 원직복직을 명하는 대신 근로자가 해고기간 동안 근로를 제공하였더라면 받을 수 있었던 임금\\n'\n",
      "             '상당액 이상의 금품을 근로자에게 지급하도록 명할 수 있다.\\n'\n",
      "             '④ 노동위원회는 근로계약기간의 만료, 정년의 도래 등으로 근로자가 원직복직(해고 이외의 경우는 원상회복을 말\\n'\n",
      "             '한다)이 불가능한 경우에도 제1항에 따른 구제명령이나 기각결정을 하여야 한다. 이 경우 노동위원회는 부당해고등\\n'\n",
      "             '이 성립한다고 판정하면 근로자가 해고기간 동안 근로를 제공하였더라면 받을 수 있었던 임금 상당액에 해당하는\\n'\n",
      "             '금품(해고 이외의 경우에는 원상회복에 준하는 금품을 말한다)을 사업주가 근로자에게 지급하도록 명할 수 있다.\\n'\n",
      "             '<신설 2021. 5. 18.>\\n'\n",
      "             '제31조(구제명령 등의 확정) ① 「노동위원회법」에 따른 지방노동위원회의 구제명령이나 기각결정에 불복하는 사용자\\n'\n",
      "             '나 근로자는 구제명령서나 기각결정서를 통지받은 날부터 10일 이내에 중앙노동위원회에 재심을 신청할 수 있다.\\n'\n",
      "             '법제처 4 '\n",
      "             '국가법령정보센터</content><source>근로기준법.pdf</source><page>4</page></document>\\n'\n",
      "             '<document><content>3. 「노동조합 및 노동관계조정법」 제31조제1항에 따른 단체협약에 의하여 '\n",
      "             '변경되는 경우\\n'\n",
      "             '4. 법령에 의하여 변경되는 경우\\n'\n",
      "             '[본조신설 2011. 9. 22.]\\n'\n",
      "             '[대통령령 제31584호(2021. 3. 30.) 부칙 제2조의 규정에 의하여 이 조 제1호의 개정규정 중 법 '\n",
      "             '제53조제3항에 관한\\n'\n",
      "             '부분은 2022년 12월 31일까지 유효함]\\n'\n",
      "             '[시행일] 제8조의2제1호의 개정규정 중 다음 각 목의 부분: 다음 각 목의 구분에 따라 정한 날\\n'\n",
      "             '가. 법 제51조의2제1항, 같은 조 제2항 단서, 같은 조 제5항 단서, 제52조제1항 및 같은 조 제2항제1호 '\n",
      "             '단서에 관한 부\\n'\n",
      "             '분으로서 상시 5명 이상 50명 미만의 근로자를 사용하는 사업 또는 사업장에 관한 부분: 2021년 7월 1일\\n'\n",
      "             '나. 법 제53조제3항에 관한 부분: 2021년 7월 1일\\n'\n",
      "             '다. 법 제55조제2항 단서에 관한 부분으로서 상시 5명 이상 30명 미만의 근로자를 사용하는 사업 또는 사업장에 '\n",
      "             '관한\\n'\n",
      "             '부분: 2022년 1월 1일\\n'\n",
      "             '제9조(단시간근로자의 근로조건 기준 등) ①법 제18조제2항에 따른 단시간근로자의 근로조건을 결정할 때에 기준이 '\n",
      "             '되\\n'\n",
      "             '는 사항이나 그 밖에 필요한 사항은 별표 2와 같다.\\n'\n",
      "             '② 삭제<2008. 6. 25.>\\n'\n",
      "             '③ 삭제<2008. 6. 25.>\\n'\n",
      "             '제10조(경영상의 이유에 의한 해고 계획의 신고) ①법 제24조제4항에 따라 사용자는 1개월 동안에 다음 각 호의 '\n",
      "             '어느\\n'\n",
      "             '하나에 해당하는 인원을 해고하려면 최초로 해고하려는 날의 30일 전까지 고용노동부장관에게 신고하여야 한다.\\n'\n",
      "             '<개정 2010. 7. '\n",
      "             '12.></content><source>근로기준법_시행령.pdf</source><page>3</page></document>'}\n",
      "'\\n---\\n'\n",
      "\"Output from node 'llm_answer':\"\n",
      "'---'\n",
      "{'answer': '주어진 정보에서 질문에 대한 정보를 찾을 수 없습니다.'}\n",
      "'\\n---\\n'\n",
      "relevance_check {'question': '나 어제 늦잠자서 회사에 30분 늦었는데, 해고하겠데, 가능한거야?', 'context': '<document><content>근로기준법\\n제25조(우선 재고용 등) ① 제24조에 따라 근로자를 해고한 사용자는 근로자를 해고한 날부터 3년 이내에 해고된 근로\\n자가 해고 당시 담당하였던 업무와 같은 업무를 할 근로자를 채용하려고 할 경우 제24조에 따라 해고된 근로자가 원\\n하면 그 근로자를 우선적으로 고용하여야 한다.\\n② 정부는 제24조에 따라 해고된 근로자에 대하여 생계안정, 재취업, 직업훈련 등 필요한 조치를 우선적으로 취하여\\n야 한다.\\n제26조(해고의 예고) 사용자는 근로자를 해고(경영상 이유에 의한 해고를 포함한다)하려면 적어도 30일 전에 예고를 하\\n여야 하고, 30일 전에 예고를 하지 아니하였을 때에는 30일분 이상의 통상임금을 지급하여야 한다. 다만, 다음 각 호\\n의 어느 하나에 해당하는 경우에는 그러하지 아니하다. <개정 2010. 6. 4., 2019. 1. 15.>\\n1. 근로자가 계속 근로한 기간이 3개월 미만인 경우\\n2. 천재ㆍ사변, 그 밖의 부득이한 사유로 사업을 계속하는 것이 불가능한 경우\\n3. 근로자가 고의로 사업에 막대한 지장을 초래하거나 재산상 손해를 끼친 경우로서 고용노동부령으로 정하는 사유\\n에 해당하는 경우\\n제27조(해고사유 등의 서면통지) ① 사용자는 근로자를 해고하려면 해고사유와 해고시기를 서면으로 통지하여야 한다.\\n② 근로자에 대한 해고는 제1항에 따라 서면으로 통지하여야 효력이 있다.\\n③ 사용자가 제26조에 따른 해고의 예고를 해고사유와 해고시기를 명시하여 서면으로 한 경우에는 제1항에 따른\\n통지를 한 것으로 본다.<신설 2014. 3. 24.></content><source>근로기준법.pdf</source><page>4</page></document>\\n<document><content>1. 근로자가 계속 근로한 기간이 3개월 미만인 경우\\n2. 천재ㆍ사변, 그 밖의 부득이한 사유로 사업을 계속하는 것이 불가능한 경우\\n3. 근로자가 고의로 사업에 막대한 지장을 초래하거나 재산상 손해를 끼친 경우로서 고용노동부령으로 정하는 사유\\n에 해당하는 경우\\n제27조(해고사유 등의 서면통지) ① 사용자는 근로자를 해고하려면 해고사유와 해고시기를 서면으로 통지하여야 한다.\\n② 근로자에 대한 해고는 제1항에 따라 서면으로 통지하여야 효력이 있다.\\n③ 사용자가 제26조에 따른 해고의 예고를 해고사유와 해고시기를 명시하여 서면으로 한 경우에는 제1항에 따른\\n통지를 한 것으로 본다.<신설 2014. 3. 24.>\\n제28조(부당해고등의 구제신청) ① 사용자가 근로자에게 부당해고등을 하면 근로자는 노동위원회에 구제를 신청할 수\\n있다.\\n② 제1항에 따른 구제신청은 부당해고등이 있었던 날부터 3개월 이내에 하여야 한다.\\n제29조(조사 등) ① 노동위원회는 제28조에 따른 구제신청을 받으면 지체 없이 필요한 조사를 하여야 하며 관계 당사자\\n를 심문하여야 한다.\\n② 노동위원회는 제1항에 따라 심문을 할 때에는 관계 당사자의 신청이나 직권으로 증인을 출석하게 하여 필요한\\n사항을 질문할 수 있다.\\n③ 노동위원회는 제1항에 따라 심문을 할 때에는 관계 당사자에게 증거 제출과 증인에 대한 반대심문을 할 수 있는\\n충분한 기회를 주어야 한다.\\n④ 제1항에 따른 노동위원회의 조사와 심문에 관한 세부절차는 「노동위원회법」에 따른 중앙노동위원회(이하 “중앙\\n노동위원회”라 한다)가 정하는 바에 따른다.</content><source>근로기준법.pdf</source><page>4</page></document>\\n<document><content>하 “부당해고등”이라 한다)을 하지 못한다.\\n② 사용자는 근로자가 업무상 부상 또는 질병의 요양을 위하여 휴업한 기간과 그 후 30일 동안 또는 산전(産前)ㆍ산\\n후(産後)의 여성이 이 법에 따라 휴업한 기간과 그 후 30일 동안은 해고하지 못한다. 다만, 사용자가 제84조에 따라\\n일시보상을 하였을 경우 또는 사업을 계속할 수 없게 된 경우에는 그러하지 아니하다.\\n제24조(경영상 이유에 의한 해고의 제한) ① 사용자가 경영상 이유에 의하여 근로자를 해고하려면 긴박한 경영상의 필\\n요가 있어야 한다. 이 경우 경영 악화를 방지하기 위한 사업의 양도ㆍ인수ㆍ합병은 긴박한 경영상의 필요가 있는 것\\n으로 본다.\\n② 제1항의 경우에 사용자는 해고를 피하기 위한 노력을 다하여야 하며, 합리적이고 공정한 해고의 기준을 정하고\\n이에 따라 그 대상자를 선정하여야 한다. 이 경우 남녀의 성을 이유로 차별하여서는 아니 된다.\\n③ 사용자는 제2항에 따른 해고를 피하기 위한 방법과 해고의 기준 등에 관하여 그 사업 또는 사업장에 근로자의\\n과반수로 조직된 노동조합이 있는 경우에는 그 노동조합(근로자의 과반수로 조직된 노동조합이 없는 경우에는 근\\n로자의 과반수를 대표하는 자를 말한다. 이하 “근로자대표”라 한다)에 해고를 하려는 날의 50일 전까지 통보하고 성\\n실하게 협의하여야 한다.\\n④ 사용자는 제1항에 따라 대통령령으로 정하는 일정한 규모 이상의 인원을 해고하려면 대통령령으로 정하는 바에\\n따라 고용노동부장관에게 신고하여야 한다.<개정 2010. 6. 4.></content><source>근로기준법.pdf</source><page>3</page></document>\\n<document><content>제30조(구제명령 등) ① 노동위원회는 제29조에 따른 심문을 끝내고 부당해고등이 성립한다고 판정하면 사용자에게 구\\n제명령을 하여야 하며, 부당해고등이 성립하지 아니한다고 판정하면 구제신청을 기각하는 결정을 하여야 한다.\\n② 제1항에 따른 판정, 구제명령 및 기각결정은 사용자와 근로자에게 각각 서면으로 통지하여야 한다.\\n③ 노동위원회는 제1항에 따른 구제명령(해고에 대한 구제명령만을 말한다)을 할 때에 근로자가 원직복직(原職復職\\n)을 원하지 아니하면 원직복직을 명하는 대신 근로자가 해고기간 동안 근로를 제공하였더라면 받을 수 있었던 임금\\n상당액 이상의 금품을 근로자에게 지급하도록 명할 수 있다.\\n④ 노동위원회는 근로계약기간의 만료, 정년의 도래 등으로 근로자가 원직복직(해고 이외의 경우는 원상회복을 말\\n한다)이 불가능한 경우에도 제1항에 따른 구제명령이나 기각결정을 하여야 한다. 이 경우 노동위원회는 부당해고등\\n이 성립한다고 판정하면 근로자가 해고기간 동안 근로를 제공하였더라면 받을 수 있었던 임금 상당액에 해당하는\\n금품(해고 이외의 경우에는 원상회복에 준하는 금품을 말한다)을 사업주가 근로자에게 지급하도록 명할 수 있다.\\n<신설 2021. 5. 18.>\\n제31조(구제명령 등의 확정) ① 「노동위원회법」에 따른 지방노동위원회의 구제명령이나 기각결정에 불복하는 사용자\\n나 근로자는 구제명령서나 기각결정서를 통지받은 날부터 10일 이내에 중앙노동위원회에 재심을 신청할 수 있다.\\n법제처 4 국가법령정보센터</content><source>근로기준법.pdf</source><page>4</page></document>\\n<document><content>3. 「노동조합 및 노동관계조정법」 제31조제1항에 따른 단체협약에 의하여 변경되는 경우\\n4. 법령에 의하여 변경되는 경우\\n[본조신설 2011. 9. 22.]\\n[대통령령 제31584호(2021. 3. 30.) 부칙 제2조의 규정에 의하여 이 조 제1호의 개정규정 중 법 제53조제3항에 관한\\n부분은 2022년 12월 31일까지 유효함]\\n[시행일] 제8조의2제1호의 개정규정 중 다음 각 목의 부분: 다음 각 목의 구분에 따라 정한 날\\n가. 법 제51조의2제1항, 같은 조 제2항 단서, 같은 조 제5항 단서, 제52조제1항 및 같은 조 제2항제1호 단서에 관한 부\\n분으로서 상시 5명 이상 50명 미만의 근로자를 사용하는 사업 또는 사업장에 관한 부분: 2021년 7월 1일\\n나. 법 제53조제3항에 관한 부분: 2021년 7월 1일\\n다. 법 제55조제2항 단서에 관한 부분으로서 상시 5명 이상 30명 미만의 근로자를 사용하는 사업 또는 사업장에 관한\\n부분: 2022년 1월 1일\\n제9조(단시간근로자의 근로조건 기준 등) ①법 제18조제2항에 따른 단시간근로자의 근로조건을 결정할 때에 기준이 되\\n는 사항이나 그 밖에 필요한 사항은 별표 2와 같다.\\n② 삭제<2008. 6. 25.>\\n③ 삭제<2008. 6. 25.>\\n제10조(경영상의 이유에 의한 해고 계획의 신고) ①법 제24조제4항에 따라 사용자는 1개월 동안에 다음 각 호의 어느\\n하나에 해당하는 인원을 해고하려면 최초로 해고하려는 날의 30일 전까지 고용노동부장관에게 신고하여야 한다.\\n<개정 2010. 7. 12.></content><source>근로기준법_시행령.pdf</source><page>3</page></document>', 'answer': '주어진 정보에서 질문에 대한 정보를 찾을 수 없습니다.', 'relevance': 'grounded'}\n",
      "\"Output from node 'relevance_check':\"\n",
      "'---'\n",
      "{ 'answer': '주어진 정보에서 질문에 대한 정보를 찾을 수 없습니다.',\n",
      "  'question': '나 어제 늦잠자서 회사에 30분 늦었는데, 해고하겠데, 가능한거야?',\n",
      "  'relevance': 'notGrounded'}\n",
      "'\\n---\\n'\n",
      "\"Output from node 'rewrite':\"\n",
      "'---'\n",
      "{ 'question': '회사가 근로자를 해고하기 위해서는 어떤 법적 절차를 따라야 하며, 지각으로 인한 해고가 가능한지에 대한 구체적인 '\n",
      "              '규정은 무엇인가요?'}\n",
      "'\\n---\\n'\n",
      "\"Output from node 'search_on_web':\"\n",
      "'---'\n",
      "{ 'context': '<document><content>근로자 해고절차 와 정당한 경영상의 해고요건은? - 법무법인대한중앙 노동전문변호사 '\n",
      "             '주말 및 야간상담 근로기준법에서는 정당한 이유 없이 근로자를 해고, 휴직, 정직, 전직, 감봉,. 징벌 을 내릴 수 '\n",
      "             '없도록 규정하여 근로자의 해고에 대하여 엄격한 기준을 적용 하고 '\n",
      "             '있습니다.</content><source>https://blog.naver.com/PostView.naver?blogId=lawoffcech6&logNo=222817307995&noTrackingCode=true</source></document>\\n'\n",
      "             '<document><content>정당한 해고를 위해 사용자가 따라야 하는 절차는 근로기준법에 명확히 규정되어 '\n",
      "             '있습니다. 근로자를 해고하려면 두 가지 주요 절차를 반드시 준수해야 합니다: 해고 예고와 해고 서면통지입니다. '\n",
      "             '첫째, 해고 예고 입니다. 근로기준법 제26조에 따르면 사용자는 '\n",
      "             '...</content><source>https://계산플러스.kr/블로그/정당한-해고-사유와-올바른-절차</source></document>\\n'\n",
      "             '<document><content>사용자 근로자를 해고하기 위해서는 적어도 30일전에 예고를 해야 하고, 그렇지 '\n",
      "             '않으면 30일분 이상의 통상임금을 예고수당으로 지급해야 합니다. (근로기준법 제26조). 이를 위반하면 2년이하의 '\n",
      "             '징역 또는 2천만원 이하의 벌금에 처하게 됩니다. 해고 자체가 '\n",
      "             '...</content><source>https://m.blog.naver.com/eulaborlaw/222507979797</source></document>\\n'\n",
      "             '<document><content>해고 예고 및 해고수당 관련 근로기준법 제26조(해고의 예고) 사용자는 근로자를 '\n",
      "             '해고(경영상 이유에 의한 해고를 포함한다)하려면 적어도 30일 전에 예고를 하여야 하고, 30일 전에 예고를 하지 '\n",
      "             '아니하였을 때에는 30일분 이상의 통상임금을 지급하여야 '\n",
      "             '한다.</content><source>https://www.nodong.kr/haego/402930</source></document>\\n'\n",
      "             '<document><content>근로기준법 제23조 규정에 따라 사용자는 정당한 이유없이 근로자를 해고, 휴직, '\n",
      "             '정직, 감봉, 그 밖의 징벌을 하여서는 아니되게 되어 있으므로 정당한 이유없이 부당하게 징계, 해고를 당하셨다면 '\n",
      "             '해고등을 당한 날부터 3개월 이내에 근무하던 사업장을 관할하는 '\n",
      "             '...</content><source>https://easylaw.go.kr/CSP/CnpClsMainBtr.laf?csmSeq=514&ccfNo=3&cciNo=1&cnpClsNo=1&menuType=qna</source></document>'}\n",
      "'\\n---\\n'\n",
      "\"Output from node 'llm_answer':\"\n",
      "'---'\n",
      "{ 'answer': '회사가 근로자를 해고하기 위해서는 근로기준법에 따라 두 가지 주요 절차를 준수해야 합니다: 해고 예고와 해고 '\n",
      "            '서면통지입니다. 사용자는 근로자를 해고하려면 적어도 30일 전에 예고해야 하며, 만약 예고를 하지 않았다면 30일분 '\n",
      "            '이상의 통상임금을 예고수당으로 지급해야 합니다(근로기준법 제26조). 이를 위반할 경우 2년 이하의 징역형 또는 '\n",
      "            '2천만원 이하의 벌금에 처해질 수 있습니다.\\n'\n",
      "            '\\n'\n",
      "            '지각으로 인한 해고가 가능한지에 대한 구체적인 규정은 주어진 정보에서 찾을 수 없습니다. 그러나 근로기준법 제23조에 '\n",
      "            '따르면 사용자는 정당한 이유 없이 근로자를 해고할 수 없으므로, 지각이 해고의 정당한 사유가 될 수 있는지는 상황에 '\n",
      "            '따라 다를 수 있습니다. \\n'\n",
      "            '\\n'\n",
      "            '출처: '\n",
      "            '[법무법인대한중앙](https://blog.naver.com/PostView.naver?blogId=lawoffcech6&logNo=222817307995&noTrackingCode=true), '\n",
      "            '[계산플러스](https://계산플러스.kr/블로그/정당한-해고-사유와-올바른-절차), '\n",
      "            '[eulaborlaw](https://m.blog.naver.com/eulaborlaw/222507979797), '\n",
      "            '[노동.kr](https://www.nodong.kr/haego/402930), '\n",
      "            '[easylaw.go.kr](https://easylaw.go.kr/CSP/CnpClsMainBtr.laf?csmSeq=514&ccfNo=3&cciNo=1&cnpClsNo=1&menuType=qna)'}\n",
      "'\\n---\\n'\n",
      "relevance_check {'question': '회사가 근로자를 해고하기 위해서는 어떤 법적 절차를 따라야 하며, 지각으로 인한 해고가 가능한지에 대한 구체적인 규정은 무엇인가요?', 'context': '<document><content>근로자 해고절차 와 정당한 경영상의 해고요건은? - 법무법인대한중앙 노동전문변호사 주말 및 야간상담 근로기준법에서는 정당한 이유 없이 근로자를 해고, 휴직, 정직, 전직, 감봉,. 징벌 을 내릴 수 없도록 규정하여 근로자의 해고에 대하여 엄격한 기준을 적용 하고 있습니다.</content><source>https://blog.naver.com/PostView.naver?blogId=lawoffcech6&logNo=222817307995&noTrackingCode=true</source></document>\\n<document><content>정당한 해고를 위해 사용자가 따라야 하는 절차는 근로기준법에 명확히 규정되어 있습니다. 근로자를 해고하려면 두 가지 주요 절차를 반드시 준수해야 합니다: 해고 예고와 해고 서면통지입니다. 첫째, 해고 예고 입니다. 근로기준법 제26조에 따르면 사용자는 ...</content><source>https://계산플러스.kr/블로그/정당한-해고-사유와-올바른-절차</source></document>\\n<document><content>사용자 근로자를 해고하기 위해서는 적어도 30일전에 예고를 해야 하고, 그렇지 않으면 30일분 이상의 통상임금을 예고수당으로 지급해야 합니다. (근로기준법 제26조). 이를 위반하면 2년이하의 징역 또는 2천만원 이하의 벌금에 처하게 됩니다. 해고 자체가 ...</content><source>https://m.blog.naver.com/eulaborlaw/222507979797</source></document>\\n<document><content>해고 예고 및 해고수당 관련 근로기준법 제26조(해고의 예고) 사용자는 근로자를 해고(경영상 이유에 의한 해고를 포함한다)하려면 적어도 30일 전에 예고를 하여야 하고, 30일 전에 예고를 하지 아니하였을 때에는 30일분 이상의 통상임금을 지급하여야 한다.</content><source>https://www.nodong.kr/haego/402930</source></document>\\n<document><content>근로기준법 제23조 규정에 따라 사용자는 정당한 이유없이 근로자를 해고, 휴직, 정직, 감봉, 그 밖의 징벌을 하여서는 아니되게 되어 있으므로 정당한 이유없이 부당하게 징계, 해고를 당하셨다면 해고등을 당한 날부터 3개월 이내에 근무하던 사업장을 관할하는 ...</content><source>https://easylaw.go.kr/CSP/CnpClsMainBtr.laf?csmSeq=514&ccfNo=3&cciNo=1&cnpClsNo=1&menuType=qna</source></document>', 'answer': '회사가 근로자를 해고하기 위해서는 근로기준법에 따라 두 가지 주요 절차를 준수해야 합니다: 해고 예고와 해고 서면통지입니다. 사용자는 근로자를 해고하려면 적어도 30일 전에 예고해야 하며, 만약 예고를 하지 않았다면 30일분 이상의 통상임금을 예고수당으로 지급해야 합니다(근로기준법 제26조). 이를 위반할 경우 2년 이하의 징역형 또는 2천만원 이하의 벌금에 처해질 수 있습니다.\\n\\n지각으로 인한 해고가 가능한지에 대한 구체적인 규정은 주어진 정보에서 찾을 수 없습니다. 그러나 근로기준법 제23조에 따르면 사용자는 정당한 이유 없이 근로자를 해고할 수 없으므로, 지각이 해고의 정당한 사유가 될 수 있는지는 상황에 따라 다를 수 있습니다. \\n\\n출처: [법무법인대한중앙](https://blog.naver.com/PostView.naver?blogId=lawoffcech6&logNo=222817307995&noTrackingCode=true), [계산플러스](https://계산플러스.kr/블로그/정당한-해고-사유와-올바른-절차), [eulaborlaw](https://m.blog.naver.com/eulaborlaw/222507979797), [노동.kr](https://www.nodong.kr/haego/402930), [easylaw.go.kr](https://easylaw.go.kr/CSP/CnpClsMainBtr.laf?csmSeq=514&ccfNo=3&cciNo=1&cnpClsNo=1&menuType=qna)', 'relevance': 'notGrounded'}\n",
      "\"Output from node 'relevance_check':\"\n",
      "'---'\n",
      "{ 'answer': '회사가 근로자를 해고하기 위해서는 근로기준법에 따라 두 가지 주요 절차를 준수해야 합니다: 해고 예고와 해고 '\n",
      "            '서면통지입니다. 사용자는 근로자를 해고하려면 적어도 30일 전에 예고해야 하며, 만약 예고를 하지 않았다면 30일분 '\n",
      "            '이상의 통상임금을 예고수당으로 지급해야 합니다(근로기준법 제26조). 이를 위반할 경우 2년 이하의 징역형 또는 '\n",
      "            '2천만원 이하의 벌금에 처해질 수 있습니다.\\n'\n",
      "            '\\n'\n",
      "            '지각으로 인한 해고가 가능한지에 대한 구체적인 규정은 주어진 정보에서 찾을 수 없습니다. 그러나 근로기준법 제23조에 '\n",
      "            '따르면 사용자는 정당한 이유 없이 근로자를 해고할 수 없으므로, 지각이 해고의 정당한 사유가 될 수 있는지는 상황에 '\n",
      "            '따라 다를 수 있습니다. \\n'\n",
      "            '\\n'\n",
      "            '출처: '\n",
      "            '[법무법인대한중앙](https://blog.naver.com/PostView.naver?blogId=lawoffcech6&logNo=222817307995&noTrackingCode=true), '\n",
      "            '[계산플러스](https://계산플러스.kr/블로그/정당한-해고-사유와-올바른-절차), '\n",
      "            '[eulaborlaw](https://m.blog.naver.com/eulaborlaw/222507979797), '\n",
      "            '[노동.kr](https://www.nodong.kr/haego/402930), '\n",
      "            '[easylaw.go.kr](https://easylaw.go.kr/CSP/CnpClsMainBtr.laf?csmSeq=514&ccfNo=3&cciNo=1&cnpClsNo=1&menuType=qna)',\n",
      "  'question': '회사가 근로자를 해고하기 위해서는 어떤 법적 절차를 따라야 하며, 지각으로 인한 해고가 가능한지에 대한 구체적인 '\n",
      "              '규정은 무엇인가요?',\n",
      "  'relevance': 'grounded'}\n",
      "'\\n---\\n'\n"
     ]
    }
   ],
   "source": [
    "import pprint\n",
    "from langgraph.errors import GraphRecursionError\n",
    "from langchain_core.runnables import RunnableConfig\n",
    "\n",
    "config = RunnableConfig(\n",
    "    recursion_limit=12, configurable={\"thread_id\": \"CORRECTIVE-SEARCH-RAG\"}\n",
    ")\n",
    "\n",
    "# AgentState 객체를 활용하여 질문을 입력합니다.\n",
    "inputs = GraphState(\n",
    "    question=\"나 어제 늦잠자서 회사에 30분 늦었는데, 해고하겠데, 가능한거야?\"\n",
    ")\n",
    "\n",
    "# app.stream을 통해 입력된 메시지에 대한 출력을 스트리밍합니다.\n",
    "try:\n",
    "    for output in app.stream(inputs, config=config):\n",
    "        # 출력된 결과에서 키와 값을 순회합니다.\n",
    "        for key, value in output.items():\n",
    "            # 노드의 이름과 해당 노드에서 나온 출력을 출력합니다.\n",
    "            pprint.pprint(f\"Output from node '{key}':\")\n",
    "            pprint.pprint(\"---\")\n",
    "            # 출력 값을 예쁘게 출력합니다.\n",
    "            pprint.pprint(value, indent=2, width=80, depth=None)\n",
    "        # 각 출력 사이에 구분선을 추가합니다.\n",
    "        pprint.pprint(\"\\n---\\n\")\n",
    "except GraphRecursionError as e:\n",
    "    pprint.pprint(f\"Recursion limit reached: {e}\")"
   ]
  }
 ],
 "metadata": {
  "kernelspec": {
   "display_name": "law-lang-BjRYOq4B-py3.11",
   "language": "python",
   "name": "python3"
  },
  "language_info": {
   "codemirror_mode": {
    "name": "ipython",
    "version": 3
   },
   "file_extension": ".py",
   "mimetype": "text/x-python",
   "name": "python",
   "nbconvert_exporter": "python",
   "pygments_lexer": "ipython3",
   "version": "3.11.9"
  }
 },
 "nbformat": 4,
 "nbformat_minor": 2
}
